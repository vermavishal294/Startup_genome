{
 "cells": [
  {
   "cell_type": "code",
   "execution_count": 1,
   "id": "092ec7d4-ba1b-4f95-b337-08961a43bfcd",
   "metadata": {},
   "outputs": [],
   "source": [
    " apikey= \"9d195df1337f73b7b94f77cc8654d89a\""
   ]
  },
  {
   "cell_type": "code",
   "execution_count": 3,
   "id": "752855e1-a880-4745-995e-54f97febb3b7",
   "metadata": {},
   "outputs": [],
   "source": [
    "import requests"
   ]
  },
  {
   "cell_type": "markdown",
   "id": "a22cdc5c-d759-4f75-8ea3-a5ba5348715c",
   "metadata": {},
   "source": [
    "# Abstract Retrieval (Uncleaned response)"
   ]
  },
  {
   "cell_type": "code",
   "execution_count": 6,
   "id": "667d3002-de45-4967-a903-819dde214d80",
   "metadata": {},
   "outputs": [
    {
     "name": "stdout",
     "output_type": "stream",
     "text": [
      "Abstract:\n",
      "{'abstracts-retrieval-response': {'affiliation': [{'affiliation-city': 'Charlottesville', 'affilname': 'University of Virginia School of Medicine', 'affiliation-country': 'United States'}, {'affiliation-city': 'Richmond', 'affilname': 'VCU School of Medicine', 'affiliation-country': 'United States'}], 'coredata': {'srctype': 'j', 'eid': '2-s2.0-85212855901', 'prism:coverDate': '2025-07-01', 'prism:aggregationType': 'Journal', 'prism:url': 'https://api.elsevier.com/content/abstract/scopus_id/85212855901', 'subtypeDescription': 'Article', 'dc:creator': {'author': [{'ce:given-name': 'Nadim', 'preferred-name': {'ce:given-name': 'Nadim', 'ce:initials': 'N.', 'ce:surname': 'Barakat', 'ce:indexed-name': 'Barakat N.'}, '@seq': '1', 'ce:initials': 'N.', '@_fa': 'true', 'affiliation': {'@id': '60030846', '@href': 'https://api.elsevier.com/content/affiliation/affiliation_id/60030846'}, 'ce:surname': 'Barakat', '@auid': '58043709300', 'author-url': 'https://api.elsevier.com/content/author/author_id/58043709300', 'ce:indexed-name': 'Barakat N.'}]}, 'link': [{'@_fa': 'true', '@rel': 'self', '@href': 'https://api.elsevier.com/content/abstract/scopus_id/85212855901'}, {'@_fa': 'true', '@rel': 'scopus', '@href': 'https://www.scopus.com/inward/record.uri?partnerID=HzOxMe3b&scp=85212855901&origin=inward'}, {'@_fa': 'true', '@rel': 'scopus-citedby', '@href': 'https://www.scopus.com/inward/citedby.uri?partnerID=HzOxMe3b&scp=85212855901&origin=inward'}], 'prism:publicationName': 'Journal of Orthopaedics', 'source-id': '21100256976', 'pii': 'S0972978X24004483', 'citedby-count': '0', 'prism:volume': '65', 'subtype': 'ar', 'prism:pageRange': '106-111', 'dc:title': 'Causal language and inferences in observational rotator cuff database studies published from 2013 to 2022', 'prism:endingPage': '111', 'openaccess': '0', 'openaccessFlag': 'false', 'prism:doi': '10.1016/j.jor.2024.12.020', 'prism:issn': '0972978X', 'prism:startingPage': '106', 'dc:identifier': 'SCOPUS_ID:85212855901', 'dc:publisher': 'Reed Elsevier India Pvt. Ltd.'}}}\n"
     ]
    }
   ],
   "source": [
    "import requests\n",
    "doi = \"10.1016/j.jor.2024.12.020\"\n",
    "\n",
    "\n",
    "headers = {\n",
    "    \"X-ELS-APIKey\": apikey,\n",
    "    \"Accept\": \"application/json\"\n",
    "}\n",
    "\n",
    "url = f\"https://api.elsevier.com/content/abstract/doi/{doi}\"\n",
    "\n",
    "response = requests.get(url, headers=headers)\n",
    "\n",
    "if response.status_code == 200:\n",
    "    print(\"Abstract:\")\n",
    "    print(response.json())\n",
    "elif response.status_code == 404:\n",
    "    print(f\"Error 404: The DOI '{doi}' was not found in Elsevier's database.\")\n",
    "    print(\"Possible reasons:\")\n",
    "    print(\"- The DOI is invalid or does not exist.\")\n",
    "    print(\"- The DOI does not belong to an Elsevier resource.\")\n",
    "    print(\"- The resource is not accessible via the API.\")\n",
    "else:\n",
    "    print(f\"Error {response.status_code}: {response.text}\")\n"
   ]
  },
  {
   "cell_type": "markdown",
   "id": "042aaf87-0d1d-4abe-a78b-613cf0a88114",
   "metadata": {},
   "source": [
    "# (Cleaned Response)"
   ]
  },
  {
   "cell_type": "code",
   "execution_count": 7,
   "id": "07fab50e-abec-4720-afab-0fe637562f8f",
   "metadata": {},
   "outputs": [
    {
     "name": "stdout",
     "output_type": "stream",
     "text": [
      "Title:\n",
      "  Causal language and inferences in observational rotator cuff database studies published from 2013 to 2022\n",
      "Authors:\n",
      "  - Nadim Barakat\n",
      "Publication Name:\n",
      "  Journal of Orthopaedics\n",
      "Volume:\n",
      "  65\n",
      "Page Range:\n",
      "  106-111\n",
      "DOI:\n",
      "  10.1016/j.jor.2024.12.020\n",
      "Publisher:\n",
      "  Reed Elsevier India Pvt. Ltd.\n",
      "Cover Date:\n",
      "  2025-07-01\n",
      "Affiliations:\n",
      "  - University of Virginia School of Medicine (Charlottesville, United States)\n",
      "  - VCU School of Medicine (Richmond, United States)\n"
     ]
    }
   ],
   "source": [
    "import requests\n",
    "\n",
    "# DOI and API Key\n",
    "doi = \"10.1016/j.jor.2024.12.020\"  # Replace with your actual API key\n",
    "\n",
    "headers = {\n",
    "    \"X-ELS-APIKey\": apikey,\n",
    "    \"Accept\": \"application/json\"\n",
    "}\n",
    "\n",
    "url = f\"https://api.elsevier.com/content/abstract/doi/{doi}\"\n",
    "\n",
    "try:\n",
    "    response = requests.get(url, headers=headers, timeout=10)\n",
    "    if response.status_code == 200:\n",
    "        data = response.json()\n",
    "        coredata = data.get('abstracts-retrieval-response', {}).get('coredata', {})\n",
    "        affiliations = data.get('abstracts-retrieval-response', {}).get('affiliation', [])\n",
    "\n",
    "        # Extract key details\n",
    "        title = coredata.get('dc:title', 'N/A')\n",
    "        authors = coredata.get('dc:creator', {}).get('author', [])\n",
    "        publication_name = coredata.get('prism:publicationName', 'N/A')\n",
    "        volume = coredata.get('prism:volume', 'N/A')\n",
    "        page_range = coredata.get('prism:pageRange', 'N/A')\n",
    "        doi = coredata.get('prism:doi', 'N/A')\n",
    "        publisher = coredata.get('dc:publisher', 'N/A')\n",
    "        cover_date = coredata.get('prism:coverDate', 'N/A')\n",
    "\n",
    "        # Build clean response\n",
    "        clean_response = {\n",
    "            \"Title\": title,\n",
    "            \"Authors\": [f\"{author.get('ce:given-name', '')} {author.get('ce:surname', '')}\" for author in authors],\n",
    "            \"Publication Name\": publication_name,\n",
    "            \"Volume\": volume,\n",
    "            \"Page Range\": page_range,\n",
    "            \"DOI\": doi,\n",
    "            \"Publisher\": publisher,\n",
    "            \"Cover Date\": cover_date,\n",
    "            \"Affiliations\": [\n",
    "                f\"{affiliation.get('affilname', 'N/A')} ({affiliation.get('affiliation-city', 'N/A')}, {affiliation.get('affiliation-country', 'N/A')})\"\n",
    "                for affiliation in affiliations\n",
    "            ]\n",
    "        }\n",
    "\n",
    "        # Print clean response\n",
    "        for key, value in clean_response.items():\n",
    "            print(f\"{key}:\")\n",
    "            if isinstance(value, list):\n",
    "                for item in value:\n",
    "                    print(f\"  - {item}\")\n",
    "            else:\n",
    "                print(f\"  {value}\")\n",
    "\n",
    "    elif response.status_code == 404:\n",
    "        print(f\"Error 404: The DOI '{doi}' was not found.\")\n",
    "    elif response.status_code == 401:\n",
    "        print(\"Error 401: Unauthorized. Please check your API key.\")\n",
    "    elif response.status_code == 429:\n",
    "        print(\"Error 429: Too many requests. Please try again later.\")\n",
    "    else:\n",
    "        print(f\"Error {response.status_code}: {response.text}\")\n",
    "except requests.exceptions.RequestException as e:\n",
    "    print(f\"Request failed: {e}\")\n"
   ]
  },
  {
   "cell_type": "code",
   "execution_count": null,
   "id": "b6b7ea97-8a5f-455c-abad-ff7ec7b206b5",
   "metadata": {},
   "outputs": [],
   "source": []
  }
 ],
 "metadata": {
  "kernelspec": {
   "display_name": "Python 3 (ipykernel)",
   "language": "python",
   "name": "python3"
  },
  "language_info": {
   "codemirror_mode": {
    "name": "ipython",
    "version": 3
   },
   "file_extension": ".py",
   "mimetype": "text/x-python",
   "name": "python",
   "nbconvert_exporter": "python",
   "pygments_lexer": "ipython3",
   "version": "3.12.4"
  }
 },
 "nbformat": 4,
 "nbformat_minor": 5
}
