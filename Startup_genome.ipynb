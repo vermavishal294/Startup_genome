{
 "cells": [
  {
   "cell_type": "code",
   "execution_count": 14,
   "id": "1180b300-8b11-462e-8ed5-bd5295b87a70",
   "metadata": {
    "collapsed": true,
    "jupyter": {
     "outputs_hidden": true
    }
   },
   "outputs": [],
   "source": [
    "apikey=\"L7uhtHrDePn8C9paENSKYwQ3OiTWqFbo\""
   ]
  },
  {
   "cell_type": "code",
   "execution_count": 2,
   "id": "4dbc2ee1-7524-4a03-8af8-06cf475004c3",
   "metadata": {
    "collapsed": true,
    "jupyter": {
     "outputs_hidden": true
    }
   },
   "outputs": [],
   "source": [
    "import requests"
   ]
  },
  {
   "cell_type": "markdown",
   "id": "742d5e3b-7308-4007-8daa-6bd9fc3dbb81",
   "metadata": {},
   "source": [
    "# Get the statistics about the Work"
   ]
  },
  {
   "cell_type": "code",
   "execution_count": 15,
   "id": "6bd1c128-e053-463d-9d09-a2abbfdaafee",
   "metadata": {
    "collapsed": true,
    "jupyter": {
     "outputs_hidden": true
    }
   },
   "outputs": [],
   "source": [
    "# Here i used identifier=200 as an example"
   ]
  },
  {
   "cell_type": "code",
   "execution_count": 14,
   "id": "f8d182cd-254e-4838-be84-77ac017b195c",
   "metadata": {
    "collapsed": true,
    "jupyter": {
     "outputs_hidden": true
    }
   },
   "outputs": [
    {
     "data": {
      "text/plain": [
       "{'id': 200,\n",
       " 'depositedDate': '1884-04-01T00:00:00',\n",
       " 'publishedDate': '1884-01-01T00:00:00',\n",
       " 'updatedDate': '2021-04-29T16:03:20',\n",
       " 'acceptedDate': '2012-09-15T00:00:00'}"
      ]
     },
     "execution_count": 14,
     "metadata": {},
     "output_type": "execute_result"
    }
   ],
   "source": [
    "\n",
    "headers={\"Authorization\":\"Bearer \"+apikey,}\n",
    "\n",
    "singlework = requests.get(f'https://api.core.ac.uk/v3/works/200/stats',headers=headers)\n",
    "singlework.json()"
   ]
  },
  {
   "cell_type": "markdown",
   "id": "c4fe0081-a8d7-44ab-95c9-dbdf445fc909",
   "metadata": {},
   "source": [
    "# Get the outputs related to the Work."
   ]
  },
  {
   "cell_type": "code",
   "execution_count": 11,
   "id": "32702dde-1026-485c-8838-826c05ff763e",
   "metadata": {
    "collapsed": true,
    "jupyter": {
     "outputs_hidden": true
    },
    "scrolled": true
   },
   "outputs": [
    {
     "data": {
      "text/plain": [
       "[{'acceptedDate': '',\n",
       "  'authors': [{'name': 'Elliott Coues'}],\n",
       "  'contributors': [],\n",
       "  'createdDate': '2020-12-07T07:08:59+00:00',\n",
       "  'dataProvider': {'id': 4786,\n",
       "   'name': 'Crossref',\n",
       "   'url': 'https://api.core.ac.uk/v3/data-providers/4786',\n",
       "   'logo': 'https://api.core.ac.uk/data-providers/4786/logo'},\n",
       "  'depositedDate': '',\n",
       "  'documentType': '',\n",
       "  'doi': '10.2307/4067421',\n",
       "  'downloadUrl': '',\n",
       "  'fullText': '',\n",
       "  'id': 357090952,\n",
       "  'identifiers': {'doi': '10.2307/4067421',\n",
       "   'oai': 'info:doi/10.2307%2F4067421'},\n",
       "  'title': 'Trinomials Are Necessary',\n",
       "  'language': None,\n",
       "  'publishedDate': '1884-04-01T00:00:00+00:00',\n",
       "  'publisher': 'Oxford University Press (OUP)',\n",
       "  'references': [],\n",
       "  'sourceFulltextUrls': [],\n",
       "  'updatedDate': '',\n",
       "  'yearPublished': '1884',\n",
       "  'links': [{'type': 'display',\n",
       "    'url': 'https://core.ac.uk/outputs/357090952'}],\n",
       "  'abstract': '',\n",
       "  'tags': ['journal-article'],\n",
       "  'fulltextStatus': 'enabled',\n",
       "  'subjects': ['journal-article'],\n",
       "  'oai': 'info:doi/10.2307%2F4067421',\n",
       "  'deleted': 'ALLOWED',\n",
       "  'disabled': False,\n",
       "  'journals': [{'identifiers': ['1938-4254', '0004-8038'],\n",
       "    'title': 'The Auk'}],\n",
       "  'repositories': {'openDoarId': 0,\n",
       "   'baseId': 0,\n",
       "   'nrUpdates': 0,\n",
       "   'pdfStatus': None,\n",
       "   'physicalName': 'noname',\n",
       "   'name': 'Crossref',\n",
       "   'urlHomepage': None,\n",
       "   'id': '4786',\n",
       "   'roarId': 0,\n",
       "   'uriJournals': None,\n",
       "   'lastUpdateTime': None},\n",
       "  'repositoryDocument': {'id': 357090952,\n",
       "   'depositedDate': '',\n",
       "   'publishedDate': '1884-04-01T00:00:00+00:00',\n",
       "   'updatedDate': '2024-03-04T01:14:54+00:00',\n",
       "   'acceptedDate': '',\n",
       "   'createdDate': '2020-12-07T07:08:59+00:00'},\n",
       "  'urls': [],\n",
       "  'lastUpdate': '2024-03-04T01:14:54+00:00',\n",
       "  'setSpecs': ['J'],\n",
       "  'sdg': None},\n",
       " {'acceptedDate': '2012-09-15T00:00:00+01:00',\n",
       "  'authors': [{'name': 'Coues, Elliott'}],\n",
       "  'contributors': ['BioStor'],\n",
       "  'createdDate': '2014-05-06T17:19:09+01:00',\n",
       "  'dataProvider': {'id': 180,\n",
       "   'name': 'Biodiversity Heritage Library OAI Repository',\n",
       "   'url': 'https://api.core.ac.uk/v3/data-providers/180',\n",
       "   'logo': 'https://api.core.ac.uk/data-providers/180/logo'},\n",
       "  'depositedDate': '1884-04-01T00:00:00+00:00',\n",
       "  'documentType': '',\n",
       "  'doi': '10.2307/4067421',\n",
       "  'downloadUrl': 'https://www.biodiversitylibrary.org/part/87747',\n",
       "  'fullText': '',\n",
       "  'id': 20219149,\n",
       "  'identifiers': {'doi': '10.2307/4067421',\n",
       "   'oai': 'oai:biodiversitylibrary.org:part/87747'},\n",
       "  'title': 'Trinomials Are Necessary',\n",
       "  'language': None,\n",
       "  'publishedDate': '',\n",
       "  'publisher': 'Washington, D.C. :American Ornithologists\\\\u27 Union, etc.,1884-',\n",
       "  'references': [],\n",
       "  'sourceFulltextUrls': [],\n",
       "  'updatedDate': '',\n",
       "  'yearPublished': '1884',\n",
       "  'links': [{'type': 'display', 'url': 'https://core.ac.uk/outputs/20219149'}],\n",
       "  'abstract': 'Volume: 1Start Page: 197End Page: 19',\n",
       "  'tags': ['Article', 'text'],\n",
       "  'fulltextStatus': 'enabled',\n",
       "  'subjects': ['Article', 'text'],\n",
       "  'oai': 'oai:biodiversitylibrary.org:part/87747',\n",
       "  'deleted': 'ALLOWED',\n",
       "  'disabled': False,\n",
       "  'journals': None,\n",
       "  'repositories': {'openDoarId': 0,\n",
       "   'baseId': 0,\n",
       "   'nrUpdates': 0,\n",
       "   'pdfStatus': None,\n",
       "   'physicalName': 'noname',\n",
       "   'name': 'Biodiversity Heritage Library OAI Repository',\n",
       "   'urlHomepage': None,\n",
       "   'id': '180',\n",
       "   'roarId': 0,\n",
       "   'uriJournals': None,\n",
       "   'lastUpdateTime': None},\n",
       "  'repositoryDocument': {'id': 20219149,\n",
       "   'depositedDate': '1884-04-01T00:00:00+00:00',\n",
       "   'publishedDate': None,\n",
       "   'updatedDate': '2020-06-15T04:15:57+01:00',\n",
       "   'acceptedDate': '2012-09-15T00:00:00+01:00',\n",
       "   'createdDate': '2014-05-06T17:19:09+01:00'},\n",
       "  'urls': ['https://www.biodiversitylibrary.org/part/87747'],\n",
       "  'lastUpdate': '2020-06-15T04:15:57+01:00',\n",
       "  'setSpecs': [],\n",
       "  'sdg': None}]"
      ]
     },
     "execution_count": 11,
     "metadata": {},
     "output_type": "execute_result"
    }
   ],
   "source": [
    "\n",
    "headers={\"Authorization\":\"Bearer \"+apikey,}\n",
    "\n",
    "singlework = requests.get(f'https://api.core.ac.uk/v3/works/200/outputs',headers=headers)\n",
    "singlework.json()"
   ]
  },
  {
   "cell_type": "code",
   "execution_count": 9,
   "id": "d064049c-2b14-4619-aa05-6aacdce537b5",
   "metadata": {
    "collapsed": true,
    "jupyter": {
     "outputs_hidden": true
    }
   },
   "outputs": [
    {
     "data": {
      "text/plain": [
       "{'acceptedDate': '',\n",
       " 'arxivId': None,\n",
       " 'authors': [{'name': 'Grossmann, H'},\n",
       "  {'name': 'International Conference on Machine Learning'},\n",
       "  {'name': 'Maruri-Aguilar, H'},\n",
       "  {'name': 'Parker, B'},\n",
       "  {'name': 'STURM, BLT'}],\n",
       " 'citationCount': 0,\n",
       " 'contributors': [],\n",
       " 'outputs': ['https://api.core.ac.uk/v3/outputs/30698001'],\n",
       " 'createdDate': '2016-04-05T12:09:12',\n",
       " 'dataProviders': [{'id': 619,\n",
       "   'name': '',\n",
       "   'url': 'https://api.core.ac.uk/v3/data-providers/619',\n",
       "   'logo': 'https://api.core.ac.uk/data-providers/619/logo'}],\n",
       " 'depositedDate': '',\n",
       " 'abstract': 'We discuss the problem of music content analysis within the formal framework of experimental design',\n",
       " 'documentType': 'research',\n",
       " 'doi': None,\n",
       " 'downloadUrl': 'https://core.ac.uk/download/30698001.pdf',\n",
       " 'fieldOfStudy': None,\n",
       " 'fullText': 'The scientific evaluation of music content analysis systems: Validempirical foundations for future real-world impactSTURM, BLT; Maruri-Aguilar, H; Parker, B; Grossmann, H; International Conference onMachine Learning     CC-BY  For additional information about this publication click this link.http://qmro.qmul.ac.uk/xmlui/handle/123456789/11294   Information about this research object was correct at the time of download; we occasionallymake corrections to records, please therefore check the published record when citing. Formore information contact scholarlycommunications@qmul.ac.ukThe scientific evaluation of music content analysis systems:Valid empirical foundations for future real-world impactBob L. Sturm B.STURM@QMUL.AC.UKSchool of Electronic Engineering and Computer Science, Queen Mary University of London, U.K.Hugo Maruri-Aguilar, Ben Parker {H.MARURI-AGUILAR, B.PARKER}@QMUL.AC.UKSchool of Mathematical Sciences, Queen Mary University of London, U.K.Heiko Grossmann HEIKO.GROSSMANN@OVGU.DEInstitute for Mathematical Stochastics, Otto-von-Guericke University Magdeburg, GermanyAbstractWe discuss the problem of music content analysiswithin the formal framework of experimental design.1. PreliminariesBy the formalism developed in Sturm et al. (2014), define amusic universe Ω, a music recording universeRΩ, descrip-tor vocabularies F (features) and V (tokens), and Booleansemantic rules A′ : f → {T, F} and A : s → {T, F},where f and s are finite sequences of elements in F and V ,respectively. Define the semantic universeSV,A := {s ∈ Vn|n ∈ N ∧A(s) = T}. (1)The semantic feature universe SF,A′ is built similarly, usingF and A′. A recorded music description system S is a mapS : RΩ → SV,A (2)which is a composition of two maps: E : RΩ → SF,A′and C : SF,A′ → SV,A. The map E is commonly knownas a “feature extractor,” and C as a “classifier.” A recordedmusic dataset is an indexed sampleD = ((ri, si) : i ∈ I) ⊂ RΩ × SV,A (3)where I indexes the samples. The sequence (si)i∈I iscalled the ground truth of D. Finally, music content analy-sis research encompasses all aspects above in order to con-nect “users” (people, organisations, etc.) with music andinformation about music.Sturm, Maruri-Aguilar, Parker, Grossmann. Licensed under a Cre-ative Commons Attribution 4.0 International License (CC BY 4.0).Attribution: Sturm, Maruri-Aguilar, Parker, Grossmann. “The sci-entific evaluation of music content analysis systems: Valid empir-ical foundations for future real-world impact,” Machine Learningfor Music Discovery Workshop at the 32nd International Confer-ence on Machine Learning, Lille, France, 2015.2. Experimental design in generalExperimental design (Bailey, 2008) is necessary to plan,implement, analyse, and report valid tests of hypotheseswhile meeting constraints that are physical, economical,ethical, and so on. Fundamental concerns of experimen-tal design are the specification of the treatments, the exper-imental and observational units (plots), the identificationof structures in treatments and plots, the mapping of unitsto treatments, the relevance of the measurement, the mod-elling and analysis of measurements, and securing that anexperiment can validly address given hypotheses.An experimental design maps plots {ω1, . . . , ωN} to treat-ments T = {1, . . . , t}, as represented by a design matrixX := [u1, · · · , ut]N×t, of N × 1 indicator vectors ui,where the jth row of ui is 1 if plot ωj receives treatmenti, and 0 if not. Of interest are two subspaces: the treat-ment subspace VT := C(X), which is the column space ofX, and its orthogonal complement V ⊥T , which contains allN × 1 vectors orthogonal to X. Structure in the treatmentsand/or plots may prompt other decompositions of the spaceV = RN in order to test specific hypotheses.An experiment results in measurements on treated units,producingN responses y ∈ V . The effect of the treatmentson y is often described by a linear modelY = τ + Z (4)where τ =∑τiui ∈ VT and τ1, . . . , τt are the treatmentparameters (unknown constants). Moreover, Z is a randomvector which can be modelled further to reflect structurein the plots and random error. Testing hypotheses about{τi} relies upon assumptions about Z. The simple textbookmodel for unstructured plots and a completely randomiseddesign assumes that Z ∼ N (0, σ2IN ). Structure in theplots necessitates the use of a different model for Z. Hy-pothesis testing by the method of analysis of variance de-The scientific evaluation of music content analysis systemscomposes y over orthogonal subspaces of V , such as VTand V ⊥T , in accordance with the hypotheses and the plotstructure, and then assesses their contributions.3. Experimental design for MCA systemsOf principal interest is a comparison of music content anal-ysis (MCA) systems {S1, S2, . . .}, as in (2), which are thetreatments T . A common experiment toward this proceeds:1. Build or choose a D, indexed by I2. Partition I into non-overlapping sets Itrain, Itest3. Build {S1, S2, . . .} from tuples of D indexed by Itrain4. Treat recordings of D indexed by Itest and compare resultsto ground truth, i.e., record successes and failures.This is often done using K-fold cross validation (KfCV),or repeated random partitioning, in which case steps 2-4are repeated. To summarise the results of this experiment,a figure of merit (FoM) is computed, e.g., accuracy, whichis then used to make comparisons between treatments.This process is typified by the experiment of Tzanetakis& Cook (2002), which is one of the most cited articles inMCA. They use a D with 1000 recordings and a groundtruth with 100 occurrences of each of the 10 elements(genre) in SV,A. They perform the experiment above withseveral systems using the same instance of E but differentclassifiers built from different methods. For each kind ofsystem Sk, they perform 100 repetitions of 10fCV in D.Each repetition uses a fresh random partition of the 100recordings per genre in D into 10 mutually exclusive sub-sets A(j)1 , . . . , A(j)10 of size 10, where j = 1, . . . , 10 iden-tifies the genre. For i = 1, . . . , 10 the ith fold is then de-fined as the set-theoretic union of A(1)i , . . . , A(10)i . Each10fCV uses for each i ∈ {1, . . . , 10} the ith fold as Itestand the union of the remaining nine folds as Itrain. Foreach (ri, si) ∈ D with i ∈ Itest the response is 1 if the sys-tem output matches the ground truth, that is if Sk(ri) = si,and 0 otherwise. This gives 1000 responses per repetitionand a corresponding proportion of matches. Tzanetakis andCook compute the mean rate of success (accuracy) and thestandard deviation of those proportions over the 100 repe-titions. The table below shows some of their results.Classifier FoM (accuracy)Kind (mean± std. dev.)GS 0.59± 0.04GMM(3) 0.61± 0.04KNN(3) 0.60± 0.04Three conclusions they make from their experiment are:A. Since D is a “representative” sample fromRΩ × SV,A, theFoM (based on D) of GS, GMM(3) and KNN(3) in Table 3are “indicative” of the FoM that would be obtained if thesekinds of systems were applied to the entire universeRΩ.B. Since the FoM of GS, GMM(3) and KNN(3) using the pro-posed E are better than randomly mapping RΩ to SV,A (inwhich case the FoM is expected to be 0.10), the set SF,A′ isinformative for SV,A in the whole universeRΩ.C. Since the FoM in Table 3 are better than randomly mappingRΩ to SV,A, the systems are recognising SV,A inRΩ.The validity of each of these conclusions relies on twostrong assumptions. Conclusion A assumes that D is a ran-dom sample from RΩ × SV,A, a set that is never explic-itly defined. Since there is clear evidence that D is not arandom sample (Sturm, 2014), the experiment may or maynot result in FoM that reflect the performance of a systemapplied to RΩ. The other two conclusions relate to the be-haviour expected of a system operating randomly, and as-sume that an MCA system’s ability to reproduce the groundtruth of D is either due to chance or caused by “musicalcontent” relating RΩ to SV,A. This assumption is not true:another way to reproduce the ground truth of D is by ex-ploiting “non-musical content” (characteristics of subsetsof RΩ unrelated to SV,A), e.g., a confounding introducedby the construction of D. The existence of such confound-ing in the dataset used in Tzanetakis & Cook (2002), aswell as others, has been clearly demonstrated (Pampalket al., 2005; Sturm, 2014). Because of its lack of controlover such a possibility, the experiment above has no valid-ity for conclusions B and C.A possible measurement model for the experiment in linewith Bailey (2008) would recognise the individual crossvalidations as the observational units and “repetitions” asan additional plot factor. A system of each kind k is ap-plied as a treatment to 100 whole repetitions (each consist-ing of 10 units). The response for each unit u is the propor-tion of correct classifications of the 100 pairs (ri, si) withi ∈ Itest(u, v), where Itest(u, v) denotes the test set for thevalidation u in repetition v. Denote by pkuv the probabilitythat a system of type k gives a correct classification for uand v. A model for this situation ispkuv = β0 + βk + γv + \\x0fuv, (5)where, using an appropriate parameterisation, β0 is theprobability of success of a random system and βk is the ad-ditional contribution of the system to type k. Further, γv isa contribution due to the random partitioning in repetitionv, and \\x0fuv models all other “errors” independent of the sys-tem type due to cross validation instances u within v. Forthis interpretation of β0 and βk to be valid, the experimentwould also need to include a random system.To provide evidence for the conclusions B and C of Tzane-takis & Cook (2002) one would need to test the hypothesisβk = 0 in (5). This test would then be performed in thestratum for repetitions. For three kinds of systems, as in thetable above, and an additional random system (each with100 repetitions and 10 validations) and assuming normal-ity, the corresponding F test has 396 denominator degreesof freedom. Assuming all individual cross validations areindependent can result in an incorrect test overstating thesignificance of the results. The applicability of this is sus-pect, however, since γv is known to depend on the systemtype (Pampalk et al., 2005; Sturm, 2014).The scientific evaluation of music content analysis systemsBailey, R. A. Design of comparative experiments. CambridgeUniversity Press, 2008.Pampalk, E., Flexer, A., and Widmer, G. Improvements of audio-based music similarity and genre classification. In Proc. IS-MIR, pp. 628–233, Sep. 2005.Sturm, B. L. The state of the art ten years after a state of the art:Future research in music information retrieval. J. New MusicResearch, 43(2):147–172, 2014.Sturm, B. L., Bardeli, R., Langlois, T., and Emiya, V. Formalizingthe problem of music description. In ISMIR, pp. 89–94, 2014.Tzanetakis, G. and Cook, P. Musical genre classification of audiosignals. IEEE Trans. Speech Audio Process., 10(5):293–302,July 2002.',\n",
       " 'id': 8848131,\n",
       " 'identifiers': [{'identifier': 'oai:qmro.qmul.ac.uk:123456789/11294',\n",
       "   'type': 'OAI_ID'},\n",
       "  {'identifier': '30698001', 'type': 'CORE_ID'}],\n",
       " 'title': 'The scientific evaluation of music content analysis systems: Valid empirical foundations for future real-world impact',\n",
       " 'language': {'code': 'en', 'name': 'English'},\n",
       " 'magId': None,\n",
       " 'oaiIds': ['oai:qmro.qmul.ac.uk:123456789/11294'],\n",
       " 'publishedDate': '2016-02-29T12:04:33',\n",
       " 'publisher': '',\n",
       " 'pubmedId': None,\n",
       " 'references': [{'id': 43526133,\n",
       "   'title': 'Design of comparative experiments.',\n",
       "   'authors': [],\n",
       "   'date': '2008',\n",
       "   'doi': '10.1017/cbo9780511611483',\n",
       "   'raw': 'Bailey, R. A. Design of comparative experiments. Cambridge University Press, 2008.',\n",
       "   'cites': None},\n",
       "  {'id': 43526139,\n",
       "   'title': 'Formalizing the problem of music description.',\n",
       "   'authors': [],\n",
       "   'date': '2014',\n",
       "   'doi': None,\n",
       "   'raw': 'Sturm, B. L., Bardeli, R., Langlois, T., and Emiya, V. Formalizing the problem of music description. In ISMIR, pp. 89–94, 2014.',\n",
       "   'cites': None},\n",
       "  {'id': 43526135,\n",
       "   'title': 'Improvements of audiobased music similarity and genre classification.',\n",
       "   'authors': [],\n",
       "   'date': '2005',\n",
       "   'doi': None,\n",
       "   'raw': 'Pampalk, E., Flexer, A., and Widmer, G. Improvements of audiobased music similarity and genre classification. In Proc. ISMIR, pp. 628–233, Sep. 2005.',\n",
       "   'cites': None},\n",
       "  {'id': 43526143,\n",
       "   'title': 'Musical genre classification of audio signals.',\n",
       "   'authors': [],\n",
       "   'date': '2002',\n",
       "   'doi': '10.1109/tsa.2002.800560',\n",
       "   'raw': 'Tzanetakis, G. and Cook, P. Musical genre classification of audio signals. IEEE Trans. Speech Audio Process., 10(5):293–302, July 2002.',\n",
       "   'cites': None},\n",
       "  {'id': 43526137,\n",
       "   'title': 'The state of the art ten years after a state of the art: Future research in music information retrieval.',\n",
       "   'authors': [],\n",
       "   'date': '2014',\n",
       "   'doi': '10.1080/09298215.2014.894533',\n",
       "   'raw': 'Sturm, B. L. The state of the art ten years after a state of the art: Future research in music information retrieval. J. New Music Research, 43(2):147–172, 2014.',\n",
       "   'cites': None}],\n",
       " 'sourceFulltextUrls': [],\n",
       " 'updatedDate': '2022-04-24T20:13:45',\n",
       " 'yearPublished': 2016,\n",
       " 'journals': [],\n",
       " 'links': [{'type': 'download',\n",
       "   'url': 'https://core.ac.uk/download/30698001.pdf'},\n",
       "  {'type': 'reader', 'url': 'https://core.ac.uk/reader/30698001'},\n",
       "  {'type': 'thumbnail_m', 'url': 'https://core.ac.uk/image/30698001/large'},\n",
       "  {'type': 'thumbnail_l', 'url': 'https://core.ac.uk/image/30698001/large'},\n",
       "  {'type': 'display', 'url': 'https://core.ac.uk/works/8848131'}]}"
      ]
     },
     "execution_count": 9,
     "metadata": {},
     "output_type": "execute_result"
    }
   ],
   "source": [
    "headers={\"Authorization\":\"Bearer \"+apikey,}\n",
    "\n",
    "singlework = requests.get(f'https://api.core.ac.uk/v3/works/8848131',headers=headers)\n",
    "singlework.json()"
   ]
  },
  {
   "cell_type": "markdown",
   "id": "a5bae6ab-3dd5-422e-853a-53bdd17a5e76",
   "metadata": {},
   "source": [
    "# Get a single Output."
   ]
  },
  {
   "cell_type": "code",
   "execution_count": 35,
   "id": "c4990dac-5d8d-4f18-9a12-adc570299f91",
   "metadata": {
    "collapsed": true,
    "jupyter": {
     "outputs_hidden": true
    }
   },
   "outputs": [
    {
     "data": {
      "text/plain": [
       "{'acceptedDate': '',\n",
       " 'authors': [{'name': '周冀英'},\n",
       "  {'name': '彭国光'},\n",
       "  {'name': '程远'},\n",
       "  {'name': '张拥波'},\n",
       "  {'name': '董尔丹'}],\n",
       " 'contributors': ['重庆医科大学附属第一医院神经内科',\n",
       "  '重庆医科大学附属第二医院神经外科',\n",
       "  '北京大学第三医院 400016',\n",
       "  '400016'],\n",
       " 'createdDate': '2018-04-20T16:32:36+01:00',\n",
       " 'dataProvider': {'id': 1611,\n",
       "  'name': 'Institutional Repository of Peking University',\n",
       "  'url': 'https://api.core.ac.uk/v3/data-providers/1611',\n",
       "  'logo': 'https://api.core.ac.uk/data-providers/1611/logo'},\n",
       " 'depositedDate': '',\n",
       " 'documentType': '',\n",
       " 'doi': '',\n",
       " 'downloadUrl': 'http://hdl.handle.net/20.500.11897/213193',\n",
       " 'fullText': '',\n",
       " 'id': 155486200,\n",
       " 'identifiers': {'doi': None, 'oai': 'oai:localhost:20.500.11897/213193'},\n",
       " 'title': '闪光视觉诱发电位无创监测颅内压的可行性研究',\n",
       " 'language': None,\n",
       " 'publishedDate': '2003-01-01T00:00:00+00:00',\n",
       " 'publisher': '中华医学杂志',\n",
       " 'references': [],\n",
       " 'sourceFulltextUrls': [],\n",
       " 'updatedDate': '',\n",
       " 'yearPublished': '2003',\n",
       " 'links': [{'type': 'display', 'url': 'https://core.ac.uk/outputs/155486200'}],\n",
       " 'abstract': '中文核心期刊要目总览(PKU)中国科学引文数据库(CSCD)02081-8',\n",
       " 'tags': ['Journal',\n",
       "  '可行性研究',\n",
       "  '颅内高压',\n",
       "  '脑外伤患者',\n",
       "  '潜伏期延长',\n",
       "  '视皮层',\n",
       "  '外科住院患者',\n",
       "  '脑梗',\n",
       "  '脑挫裂伤',\n",
       "  '蛛网膜下腔出血',\n",
       "  'BAEP'],\n",
       " 'fulltextStatus': 'enabled',\n",
       " 'subjects': ['Journal'],\n",
       " 'oai': 'oai:localhost:20.500.11897/213193',\n",
       " 'deleted': 'ALLOWED',\n",
       " 'disabled': False,\n",
       " 'journals': [{'title': None, 'identifiers': ['issn:0376-2491', '0376-2491']}],\n",
       " 'repositories': {'id': '1611',\n",
       "  'openDoarId': 0,\n",
       "  'name': 'Institutional Repository of Peking University',\n",
       "  'urlHomepage': None,\n",
       "  'uriJournals': None,\n",
       "  'physicalName': 'noname',\n",
       "  'roarId': 0,\n",
       "  'baseId': 0,\n",
       "  'pdfStatus': None,\n",
       "  'nrUpdates': 0,\n",
       "  'lastUpdateTime': None},\n",
       " 'repositoryDocument': {'id': 155486200,\n",
       "  'depositedDate': '',\n",
       "  'publishedDate': '2003-01-01T00:00:00+00:00',\n",
       "  'updatedDate': '2019-11-13T16:28:18+00:00',\n",
       "  'acceptedDate': '',\n",
       "  'createdDate': '2018-04-20T16:32:36+01:00'},\n",
       " 'urls': ['http://hdl.handle.net/20.500.11897/213193'],\n",
       " 'lastUpdate': '2019-11-13T16:28:18+00:00',\n",
       " 'setSpecs': [],\n",
       " 'license': '',\n",
       " 'sdg': None}"
      ]
     },
     "execution_count": 35,
     "metadata": {},
     "output_type": "execute_result"
    }
   ],
   "source": [
    "headers={\"Authorization\":\"Bearer \"+apikey,}\n",
    "\n",
    "singlework = requests.get(f'https://api.core.ac.uk/v3/outputs/155486200',headers=headers)\n",
    "f=singlework.json()\n",
    "f"
   ]
  },
  {
   "cell_type": "code",
   "execution_count": 6,
   "id": "fab67dd1-2a83-4fdd-8219-844397697684",
   "metadata": {
    "collapsed": true,
    "jupyter": {
     "outputs_hidden": true
    }
   },
   "outputs": [
    {
     "name": "stdout",
     "output_type": "stream",
     "text": [
      "Several proposals for component-based development\n",
      "\n",
      "methods have started to appear. However, the emphasis is\n",
      "\n",
      "still very much on the development of components as\n",
      "\n",
      "opposed to the development with components. The main\n",
      "\n",
      "focus is on how to generate ideal reusable components not\n",
      "\n",
      "on how to plug existing components and specify their\n",
      "\n",
      "interactions and connections.\n",
      "\n",
      "The concept of a coordination contract (Andrade and\n",
      "\n",
      "Fiadeiro 1999; Andrade and Fiadeiro 2001; Andrade,\n",
      "\n",
      "Fiadeiro et al. 2001) has been proposed to specify a\n",
      "\n",
      "mechanism of interaction between objects based on the\n",
      "\n",
      "separation between structure, what is stable, and\n",
      "\n",
      "interaction, what is changeable. This separation supports\n",
      "\n",
      "better any change of requirements, as contracts can be\n",
      "\n",
      "replaced, added or removed dynamically, i.e. in run-time,\n",
      "\n",
      "without having to interfere with the components that they\n",
      "\n",
      "coordinate. A coordination contract corresponds to an\n",
      "\n",
      "expressive architectural connector that can be used to plug\n",
      "\n",
      "existing components.\n",
      "\n",
      "In this paper we integrate the concept of a coordination\n",
      "\n",
      "contract with component-based development and show\n",
      "\n",
      "how coordination contracts can be used to specify the\n",
      "\n",
      "connectors between components\n",
      "Open Research OnlineThe Open University’s repository of research publicationsand other research outputsCoordination Contracts as Connectors inComponent-Based DevelopmentConference or Workshop ItemHow to cite:Barroca, Leonor and Fiadeiro, Jose´ Luiz (2002). Coordination Contracts as Connectors in Component-BasedDevelopment. In: 6th Bienneal World Conference on Integrated Design & Process Technology, 23-28 Jun 2002,Pasadena, USA.For guidance on citations see FAQs.c© [not recorded]Version: [not recorded]Copyright and Moral Rights for the articles on this site are retained by the individual authors and/or other copyrightowners. For more information on Open Research Online’s data policy on reuse of materials please consult the policiespage.oro.open.ac.ukIntegrated Design and Process Technology, IDPT-2002Printed in the United States of America, June, 20022002 Society for Design and Process Science1COORDINATION CONTRACTS AS CONNECTORS IN COMPONENT-BASEDDEVELOPMENTLeonor Barroca José Luiz FiadeiroDeptartment of Computing ATX Software and University of LisbonThe Open University Alameda António Sérgio 7,Milton Keynes MK7 6AA 2795-023 Linda-a-VelhaU.K. Portugall.barroca@open.ac.uk jose@fiadeiro.orgABSTRACTSeveral proposals for component-based developmentmethods have started to appear. However, the emphasis isstill very much on the development of components asopposed to the development with components. The mainfocus is on how to generate ideal reusable components noton how to plug existing components and specify theirinteractions and connections.The concept of a coordination contract (Andrade andFiadeiro 1999; Andrade and Fiadeiro 2001; Andrade,Fiadeiro et al. 2001) has been proposed to specify amechanism of interaction between objects based on theseparation between structure, what is stable, andinteraction, what is changeable. This separation supportsbetter any change of requirements, as contracts can bereplaced, added or removed dynamically, i.e. in run-time,without having to interfere with the components that theycoordinate. A coordination contract corresponds to anexpressive architectural connector that can be used to plugexisting components.In this paper we integrate the concept of a coordinationcontract with component-based development and showhow coordination contracts can be used to specify theconnectors between components.1. INTRODUCTIONComponent-based development (Allen and Frost 1998;D'Souza and Wills 1999; Allen 2001; Cheesman andDaniels 2001) has been put forward with the promise ofmore flexible systems that can be easily changed and usedin an environment where time-to-market is a mainconstraint. Divide to conquer has been a well acceptedstrategy in software  development for complex systems;smaller components are more manageable and can bemore easily designed so that the dependencies areminimised and change in one component does not affectothers. There is a lot of expertise and accumulatedknowledge in software design that with, for example, theefforts on design patterns cataloguing (Gamma, Helm etal. 1995), have been recognised and lead to a wellestablished discipline. However, component developmentis not only about creating the perfectly designedcomponents; it is also very much about integratingexisting software and building systems from componentsthat sometimes do not exactly match what is initiallyrequired. The way these components are put together toachieve a desired effect is today a major part ofdevelopment. The interactions between the componentsneed to be promoted to first-class citizens if component-based development is to succeed.Architectural approaches to software development (Shawand Garlan 1996; Bass, Clements et al. 1998; Barroca,Hall et al. 2000) have always emphasised components andconnectors but the concept of connector is often absentfrom component-based development methods and theemphasis is still pretty much on the development  ofcomponents rather than development with components.Connectors reflect not only how the interactions betweencomponents achieve the desired services of a system, butthey should also embed what is more volatile in a system,the business rules that are more likely to change withoutaffecting the more stable part of a system, its components.Coordination contracts have been proposed (Andrade andFiadeiro 1999; Andrade and Fiadeiro 2001; Andrade,Fiadeiro et al. 2001) based on the separation between the‘core services’ and  the layer of coordination neededbetween the service providers to achieve the businessrequirements. A coordination contract is an architecturalconnector between a set of partners that defines theinteractions superposed on the partners’ behaviour.In this paper we look at a component-based developmentapproach and see how it can be extended using contractsas connectors between components. Section 2 reviews thecomponent-based development proposed by Cheesmanand Daniels (Cheesman and Daniels 2001); Section 3introduces coordination contracts; Section 4 showsthrough an example how coordination contracts can beused in development to plug existing components; Section5 concludes.2. COMPONENT-BASED DEVELOPMENTThe component-based development process followed hereis based on the process proposed by Cheesman andDaniels in their book on components2(Cheesman and Daniels 2001). In their approach, theseparation of domain modelling from specificationmodelling is key for the development of models and theclear understanding of their purpose and meaning.Domain modelling is carried through to understand thecontext of a situation or business and can be carried outindependently, whether or not component-baseddevelopment is to be used. No software solution isassumed and its purpose is to understand the domainconcepts and their relationships, and the tasks carried outin the domain, the use cases. The outcomes of domainmodelling are a use case model, a conceptual model (alsoknown as the business type model), and a behaviourmodel. Use cases represent different ways of using thebusiness situation. The conceptual model represents thereal world concepts and their structural properties(associations and attributes); no operations are assigned toconcepts. Behaviour, when it is relevant, is expressed interms of event occurrence and broadcast; there is notconcept of message passing at this stage.Specification modelling assumes a software system toaddress a situation; specification models representsoftware elements used in a software solution to aproblem. The main focus is the definition, at a high levelof abstraction, of the services provided by the componentsseen as far as possible as black boxes. This is where thecomponent architecture starts to be defined and thecomponents specified. The use case model is now refinedfor the software and the boundaries of the software arefixed. A structural model is defined and the externalvisible services of the software specified.Use cases can lead to a first partition of behaviour of thesystem. Use cases can be ranked to prioritise developmentbut also to carry out parallel development of independentareas of functionality. The external specification ofservices can be confronted with the specification of anyexisting components to solve a specific set of services.Focusing on a clear and rigorous specification of theinterfaces is a key principle in the development withcomponents. It not only makes a clear separation betweenthe specification and the implementation of a componentbut it also enforces the principle of encapsulation of dataand behaviour.According to Cheesman and Daniels specificationmodelling is divided into three stages: componentidentification producing an initial component specificationand architecture, component interaction discovering theoperations needed and allocating responsibilities, andcomponent specification creating precise specifications ofoperations, interfaces, and components.They define four architecture layers for the application:the User Interface, the User Dialog, the System Servicesand the Business Services layers. In this paper we are notconcerned with the user interface and dialog layers. TheSystem Services layer deals with the functionalityidentified in the use cases and provides operations thatdeal with the steps in scenarios, i.e., it consists of thesystem interactions; the Business Services layer deals withthe information and provides the operations that will beneeded by the system services, i.e., it provides the stable‘core business’ services. The System layer contains whatis specific to each particular application; the Businesslayer provides services that can be common acrossdifferent applications.This separation between the system services and thebusiness services is a first step to separate what is stablefrom what is variable and also what is available (theexisting components) from the plugging that needs to bedeveloped.This is a well defined and sound proposal for component-based development that is, however, geared mainly to theproduction of new components, components that can bereused in later projects. It does not address in detail theuse of existing assets, nor emphasises the role ofconnectors and their specification.  In a previous exercisewe followed this process to develop components and acomponent architecture for a video hire business system.Now we will look at how existing components can beintegrated in a component architecture using coordinationcontracts; we propose the adoption of the concept of acoordination contract as the specification of architecturalconnectors between components.3. COORDINATION CONTRACTThe concept of a ‘coordination contract’ (Andrade andFiadeiro 1999) is based on the notion of superposition(Katz 1993) as in parallel program design. A coordinationcontract superposes a behaviour over the direct interactionbetween its partners by intercepting this interaction. Thisinterception is expressed as a rule in the following way:when <event>do <reaction>with <guard>The event is typically a method invocation and thereaction specifies the set of actions of the contract and itspartners that take place as long as the guard is true. Thewhole interaction is handled as an atomic transaction.The separation of the business rules from the corebusiness entities is established by shifting to thecoordination contract the business constraints that will bemore likely to evolve. A coordination contract has thefollowing form.contract <name>    partners <list of partners>    invariant <of the association between partners>    local operations    coordination rulesend contract3Coordination contracts define a set of rules imposed oncoordination interfaces (the partners) which tend to dealwith single objects (interfaces to an account object, forexample).Here, we will apply this idea but in component-baseddevelopment, not between classes but betweencomponents, or more precisely between their interfaces.These are complex components that typically managemany objects. Coordination contracts will be used tospecify the plugging of existing components and imposethe constraints in the interactions that will result in thesystem services.4. COORDINATION CONTRACTS ASCONNECTORSThe example used is of a video hiring business that keepsa stock of videos for lending to members. The business isoperated by cashiers who deal directly with the members’requests. These requests are to borrow a video, to extend aloan, to return a video, or to reserve a film. The businessalso keeps track of the location of each video – that is,whether it is in the shop or out on loan.The current constraints on the system services (loans andreservations) are as follows:• Members cannot have more than three videos out onloan at any one time.• A loan cannot be extended if the member has anyoverdue videos, or if there is a reservation for the filmof the video that has not yet been allocated a videocopy.• When a reservation is allocated a video copy, themember who made the reservation is informed andthe video copy is kept on hold for three days. If thevideo has not been collected after the three days thereservation is cancelled and the video is no longer onhold. A reservation can be cancelled before the threedays after a member’s request.The constraints defined above are likely to change as thebusiness adapts to customer requests and competition. Inthe rest of this paper we will be looking at how we can usethis knowledge to specify an architecture where thechangeable elements are easily identifiable andreplaceable.The following use cases were identified: Make a loan,Extend a loan, Terminate loan, Make a Reservation,Cancel a Reservation. Each use case corresponds to asystem service, i.e., a specific service provided by thevideo hire business system. We will look into theinteractions needed to perform each of these servicesstarting from a set of existing components. The existingcomponents correspond to the stable ‘core businessservices’ which will be plugged to satisfy the systemservices.The existing components (see Figures 1, 2, and 3) are: acomponent with a IVideoMgt interface that manages allthe videos, a component with a IFilmMgt interface thatmanages all the , and a component with IMemberMgtinterface that manages all the members. These interfacesprovide the typical operations of retrieving, setting andmodifying attributes to manage instances of  the ‘corebusiness types’ Member, Video, and  Film. We omit heretheir specification but hope that the names of theoperations used below are self-evident.4.1 COMPONENT ARCHITECTUREGiven the three component interfaces we need to revisitthe use cases for the system services and specify theinteractions between the existing components that willachieve these use cases. Each use case corresponds to aninterface of a system component. We decided to associateall the resulting interfaces with a single system componentas they are related and depend on the interactions betweenthe existing core business components.The component architecture in Figure 1 shows thedependencies between a component that satisfies thesystem services and the existing components for the corebusiness services.Now we need to specify the interactions between the corecomponents that fulfil the interfaces of the systemcomponent. We show how this can be achieved usingcoordination contracts.This system component can be seen as a connector for theother components. It acts as a dispatcher of requestsdelegating requests for system services to the corebusiness components. It also plays a role of coordinatorand it imposes over the connected components conditionsthat these need to observe. We could have had severalcomponents each for a use case. However, as all these usecases are of related services we decided to have a singlecomponent.4.2 COORDINATION CONTRACTS TO SPECIFYCOMPONENT INTERACTIONCoordination contracts have been proposed  to addressinteraction between instances of classes. Here we will beusing the same concept but at a higher level of abstraction.The interactions are to be defined between complexcomponents that manage many object instances. Thesecomponents correspond to the core business services.They can be reused for different systems in differentconfigurations.To achieve the system services required by a video hirebusiness system their interactions need to be specified.We define a special component whose role is only todispatch any request for a service to any of the existingcomponents. A coordination contract will be imposed oneach of the services of this special component. Thiscomponent acts as a connector to the core businesscomponents and satisfies the following interface. Each4coordination contract will have as its partners the interfaceof this system component and the interfaces of theexisting core components.coordination interface Video-Hire-Businessimport types Id, DateservicesmakeLoan(memberCode:Id,videoCode:Id, loanPeriod:Date)terminateLoan(videoCode: Id)extendLoan(memberCode: Id, videoCode: Id,loanPeriod: Date)makeReservation(memberCode: Id, filmCode: Id)cancelReservation(memberCode: Id, filmCode: Id)end interfaceThe coordination contract specifies the businessrequirements for a system which are imposed over thebehaviour of the components participating in the resultingcomponent architecture. These business requirements areexpressed in the following ways:• as services provided by the resulting componentarchitecture, and• by events that trigger some change within thecomponents, like time events or change of state.An example of an event is end-of-day; it triggers thecancellation of reservations that have exceeded the threedays holding a video while the video hasn’t been takenout.To be able to impose conditions on services we need torely on a model of the component supporting an interface.Note that this may seem to equate to a break ofinformation hiding; however, the models used are notimplementation models; we don’t know the internalrepresentation of the component but we need to know howit behaves. We need to use UML models provided foreach component.Coordination contracts model business rules that aresuperposed over the services that are provided by thepartners. A typical case is the enforcement of businessinvariants such as the number of loans that each memberis permitted to make. This is the purpose of the with-guardof makeLoan. One advantage of externalising this \"rule\"in an explicit contract is that it allows for the rule to bechanged (e.g. increasing or decreasing the number ofloans, introducing temporary campaigns for attracting newcustomers, etc) without having to intrude in the way theservice is implemented in the partner.The makeLoan service also enforces the verification of themember and video codes and the non-existence of overduevideos by the member making the loan.We show the coordination contract for the makeLoanservice. The notation used is OCL (Warmer and Kleppe1999) and the OCL expressions are based on the UMLmodels for the components that are in Figures 1, 2, and 3.contract Loanspartnersmc: IMemberMgt, vc: IVideoMgt, fc: IFilmMgt,vhc: Video-Hire-Businessinvariantslocal operationsoverdueVideos(memberCode:Id): Boolean is“there is a loan for the member with memberCode,and the loanPeriod has expired”vc.videoCopy.loan->exists(l |l.member.memberCode= memberCode and l.loanPeriod < today)coordination <interactions-with-partners>servicesmakeLoan:              when vhc.makeLoan(memberCode, videoCode,loanPeriod)dovc.createLoan(memberCode,videoCode, loanPeriod)mc.incrementNumberLoans(memberCode)“if video on hold, it is on hold for a reservation for amember with memberCode; the reservation is cancelledand video no longer on hold”if (fc.checkReservation(memberCode,vc.getReservationCode(videoCode))thenfc.cancelReservation(vc.getReservationCode(videoCode))andvc.releaseVideoOnHold(vc.getReservationCode(videoCode)) )with mc.verifyMemberCode(memberCode) and(mc.getNumberLoans(memberCode) < 3) and                       not (overdueVideos(memberCode)) and                       vc.verifyVideoCode(videoCode)end contract5. CONCLUSIONSIn this paper we used the concept of a ‘coordinationcontract’ for a connector in a component architecture. Wehave also shown how use cases lead to the specification ofthe coordination contract. This approach complementscomponent-based development (Cheesman and Daniels2001) in providing the tools to reuse and integratecomponents in a component-based architecture.An advantage of using coordination contracts instead of,for example, interaction diagrams to specify theseinteractions is that we have not imposed any sequencingof actions that could be premature and we have gatheredin a single place all the interactions. Each coordinationcontract details a use case and allows us to represent in asingle place all the business rules that relate to that usecase. If any of these rules changes it will be easy toidentify where to change the interactions as the rules havebeen separated from the components; they reside in theconnectors.5There are other business requirements that are not easilyrepresented in use cases as they are not triggered by actors(state changes, times events). These can also be expressedas part of the coordination contract between components.There is a balance that needs to be established betweenwhat are the preconditions on the business interfaces ofthe components and the preconditions on a coordinationcontract. This is a difficult balance to establish whendeveloping components but it is no longer a choice whenassembling existing components. In this case we have torely on existing specifications for the components and thecontract superimposes the required behaviour over thesespecifications.The coordination contracts approach defines externalcoordination mechanisms to the coordinated objects. Thismechanism has the advantage of being usable from theconceptual model through to design and implementation.What we did in this paper was to promote coordinationcontracts for objects to coordination contracts for complexcomponents that manage many objects. Coordinationcontracts are used as large architectural connectorsbetween components.6. REFERENCESAllen, P. (2001), \"Realising e-Business withComponents\", Addison-Wesley Publishing Company.Allen, P. and S. Frost (1998), \"Component-BasedDevelopment for Enterprise Systems: Applying theSELECT Perspective\", Cambridge University Press.Andrade, L. and J. L. Fiadeiro (1999), \"InterconnectingObjects via Contracts\". UML'99-Beyond the Standard. R.France and B. Rumpe, Springer Verlag. LNCS 1723: 566-583.Andrade, L. and J. L. Fiadeiro (2001), \"Coordination: theEvolutionary Dimension\". Technology of Object-OrientedLanguages and Systems-TOOLS 38. W. Pree, IEEEComputer Society Press: 136-147.Andrade, L., J. L. Fiadeiro, et al. (2001), \"Patterns forCoordination\". COORDINATION'00. G. Catalin-Romanand A. Porto, Springer Verlag. LNCS 1906: 317-322.Barroca, L., J. Hall, et al., Eds. ( 2000), \"SoftwareArchitectures, Advances and Application\", Springer-Verlag.Bass, L., P. Clements, et al. (1998), \"SoftwareArchitecture in Practice\", Addison Wesley.Cheesman, J. and J. Daniels (2001), \"UML Components,A Simple Process for Specifying Component-BasedSoftware\", Addison-Wesley.D'Souza, D. and A. Wills (1999), \"Objects Components,and Frameworks: The Catalysis Approach\", Addison-Wesley.Gamma, E., R. Helm, et al. (1995), \"Design Patterns:Elements of Reusable Object-Oriented Software\",Addison Wesley.Katz, S. (1993), \"A Superimposition Control Construct forDistributed Systems.\" ACM TOPLAS 15(2): 337-356.Shaw, M. and D. Garlan (1996), \"Software Architecture:Perspectives on an emerging discipline\", Prentice Hall.Warmer, J. and A. Kleppe (1999), \"The Object ConstraintLanguage, Precise Modeling with UML\", Addison-Wesley.6FIGURES1** 1 FilmfilmCode: IdHolds0..10..10..1ReservationreservationCode: IdVideoCopyvideoCode: StringloanStatus:{onLoan,inShop}onHold: Boolean0..31Loantime: Timedate: DateloanPeriod: Date«interface type»IVideoMgtaddVideo(video: VideoDetails)deleteVideo(videoCode: Id)getVideo(videoCode: Id):VideoverifyVideoCode(videoCode: Id): BooleangetVideoStatus(videoCode: Id): {onLoan, inShop}getReservationCode(videoCode: Id): IdgetFilmCode(videoCode: Id): IdcreateLoan(memberCode: Id, videoCode: Id, loanPeriod: Date)extendLoan(memberCode: Id, videoCode: Id, loanPeriod: Date)terminateLoan(videoCode: Id)getMemberOnLoan(videoCode: Id): IdvideoOnHold(videoCode: Id): BooleanreleaseVideoOnHold(reservationCode: Id)putVideoOnHold(videoCode: Id, reservationCode: Id)MembermemberCode: IdFig. 1 Video component7«interface type»IFilmMgtaddFilm(film: FilmDetails)deleteFilm(filmCode: Id)verifyFilm(filmCode: Id): BooleangetFilm(filmCode: Id):FilmgetFilmCode(name: String): IdgetLoanRate (filmCode: Id)getStock(filmCode: Id): IntegercreateReservation(memberCode: Id): IdcancelReservation(reservationCode: Id)checkReservation(memberCode: Id,  reservationCode: Id): BooleancheckUnfulfilledReservation(filmCode: Id): BooleangetWhoHasReservation(reservationCode:Id): IdgetFirstUnfulfilledReservation(filmCode:Id): IdfulfillReservation(reservationCode: Id)getReservationsDate(date:Date)0..31*1MembermemberCode: Id*FilmfilmCode: Stringname: Stringyear: Stringcertificate: Stringdirector: StringleadingActor: StringloanRate: Coststock: IntegerReservationreservationCode: Iddate: DatecopyHold: BooleanFig. 2 Film component8*MembermemberCode: Idname: Stringaddress: Stringtelephone: Stringdate: DatenumberOfLoans: IntegernumberOfReservations: Integer«interface type»IMemberMgtaddMember(member: MemberDetails)deleteMember(memberCode: Id)getMember(memberCode: Id): MemberverifyMemberCode(memberCode: Id): BooleangetNumberLoans(memberCode: Id) : IntegergetNumberReservations(memberCode: Id) : IntegerincrementNumberLoans(memberCode: Id)decrementNumberLoans(memberCode: Id)incrementNumberReservations(memberCode: Id)decrementNumberReservations(memberCode: Id)Fig. 3 Member componentIMemberMgtIFilmMgt«component specification»VideoHireBusiness«component specification»MemberComponent«component specification»VideoComponent«component specification»FilmComponentIVideoMgtIMakeLoanITerminateLoanIMakeReservationICancelReservationIExtendLoanFig. 4 Component architecture\n"
     ]
    }
   ],
   "source": [
    "print(f['abstract'])\n",
    "print(f['fullText'])"
   ]
  },
  {
   "cell_type": "markdown",
   "id": "6defea66-48e5-45e4-95e7-bb5a38828027",
   "metadata": {},
   "source": [
    "# File download"
   ]
  },
  {
   "cell_type": "code",
   "execution_count": 34,
   "id": "a22ee55e-407d-43d1-b8de-5bbcbd36b21e",
   "metadata": {
    "collapsed": true,
    "jupyter": {
     "outputs_hidden": true
    }
   },
   "outputs": [
    {
     "name": "stdout",
     "output_type": "stream",
     "text": [
      "Failed to download paper. Status code: 429, Error: \n"
     ]
    }
   ],
   "source": [
    "import requests\n",
    "\n",
    "\n",
    "identifier =  200\n",
    "\n",
    "\n",
    "url = f'https://api.core.ac.uk/v3/outputs/155486200/download'\n",
    "\n",
    "\n",
    "headers = {\n",
    "    'Authorization': f'Bearer {apikey}'\n",
    "}\n",
    "\n",
    "response = requests.get(url, headers=headers)\n",
    "\n",
    "\n",
    "if response.status_code == 200:\n",
    "    \n",
    "    with open('downloaded_paper13.pdf', 'wb') as file:\n",
    "        file.write(response.content)\n",
    "    print(\"Paper downloaded successfully!\")\n",
    "else:\n",
    "    print(f\"Failed to download paper. Status code: {response.status_code}, Error: {response.text}\")\n"
   ]
  },
  {
   "cell_type": "markdown",
   "id": "a751363d-5dbc-4335-9301-9fb51a337959",
   "metadata": {},
   "source": [
    "# Fetching Identifiers"
   ]
  },
  {
   "cell_type": "code",
   "execution_count": 18,
   "id": "a70c20ad-bedd-48e2-9fd2-10205e39a17f",
   "metadata": {
    "collapsed": true,
    "jupyter": {
     "outputs_hidden": true
    },
    "scrolled": true
   },
   "outputs": [
    {
     "name": "stdout",
     "output_type": "stream",
     "text": [
      "Title: Evaluating Quality of Decision-Making Processes in Medicines' Development, Regulatory Review, and Health Technology Assessment : A Systematic Review of the Literature.\n",
      "Identifier: 8786938\n",
      "DOI: 10.3389/fphar.2017.00189\n",
      "--------------------------------------------------\n",
      "Title: What factors influence training opportunities for older workers? Three factorial surveys exploring the attitudes of HR professionals\n",
      "Identifier: 4845915\n",
      "DOI: 10.2139/ssrn.1949060\n",
      "--------------------------------------------------\n",
      "Title: *\n",
      "Identifier: 125827286\n",
      "DOI: None\n",
      "--------------------------------------------------\n",
      "Title: *\n",
      "Identifier: 129786515\n",
      "DOI: 10.17077/0021-065x.5497\n",
      "--------------------------------------------------\n",
      "Title: *\n",
      "Identifier: 132263562\n",
      "DOI: None\n",
      "--------------------------------------------------\n",
      "Title: *\n",
      "Identifier: 74466557\n",
      "DOI: None\n",
      "--------------------------------------------------\n",
      "Title: *\n",
      "Identifier: 129786483\n",
      "DOI: 10.17077/0021-065x.5466\n",
      "--------------------------------------------------\n",
      "Title: Efek Proteksi dari Terapi Oksigen Hiperbarik terhadap Ekspresi Bcl-2 Miometrium Rattus norvegicus Bunting yang Terinfeksi oleh Tachyzoite Toxoplasma gondii\n",
      "Identifier: 136952092\n",
      "DOI: 10.30742/jikw.v9i1.730\n",
      "--------------------------------------------------\n",
      "Title: *\n",
      "Identifier: 138967425\n",
      "DOI: None\n",
      "--------------------------------------------------\n",
      "Title: *\n",
      "Identifier: 33880114\n",
      "DOI: None\n",
      "--------------------------------------------------\n"
     ]
    }
   ],
   "source": [
    "import requests\n",
    "\n",
    "\n",
    "\n",
    "params = {\n",
    "    \"query\": \"Machine Learning\"\n",
    "}\n",
    "\n",
    "\n",
    "url = f'https://api.core.ac.uk/v3/search/works/'\n",
    "\n",
    "\n",
    "headers = {\n",
    "    'Authorization': f'Bearer {apikey}'\n",
    "}\n",
    "\n",
    "\n",
    "response = requests.get(url, headers=headers,params=params)\n",
    "\n",
    "\n",
    "if response.status_code == 200:\n",
    "    data = response.json()\n",
    "  \n",
    "    for result in data.get('results', []):\n",
    "        print(f\"Title: {result['title']}\")\n",
    "        print(f\"Identifier: {result['id']}\")\n",
    "        print(f\"DOI: {result.get('doi', 'N/A')}\")\n",
    "        print(\"-\" * 50)\n",
    "else:\n",
    "    print(f\"Failed to search. Status code: {response.status_code}, Error: {response.text}\")\n"
   ]
  },
  {
   "cell_type": "markdown",
   "id": "911fc43e-4d59-4474-a8c1-6744d87b842d",
   "metadata": {},
   "source": [
    "# Final Code (with balanced request and request monitoring code integrated)"
   ]
  },
  {
   "cell_type": "code",
   "execution_count": 31,
   "id": "36881ad1-1d09-4708-b0ae-dafd43e61da8",
   "metadata": {
    "collapsed": true,
    "jupyter": {
     "outputs_hidden": true
    }
   },
   "outputs": [
    {
     "name": "stdout",
     "output_type": "stream",
     "text": [
      "Rate limit exceeded. Retrying after 27.489573 seconds...\n",
      "Rate limit exceeded. Retrying after 27.717019 seconds...\n",
      "Rate limit exceeded. Retrying after 27.228208 seconds...\n",
      "Remaining requests: 8 out of 10\n",
      "Current size of the list: 100\n",
      "Remaining requests: 6 out of 10\n",
      "Current size of the list: 199\n",
      "Remaining requests: 4 out of 10\n",
      "Current size of the list: 298\n",
      "Remaining requests: 2 out of 10\n",
      "Current size of the list: 398\n",
      "Rate limit exceeded. Retrying after 27.559573 seconds...\n"
     ]
    },
    {
     "ename": "KeyboardInterrupt",
     "evalue": "",
     "output_type": "error",
     "traceback": [
      "\u001b[1;31m---------------------------------------------------------------------------\u001b[0m",
      "\u001b[1;31mKeyboardInterrupt\u001b[0m                         Traceback (most recent call last)",
      "Cell \u001b[1;32mIn[31], line 60\u001b[0m\n\u001b[0;32m     58\u001b[0m     delay \u001b[38;5;241m=\u001b[39m \u001b[38;5;28mmax\u001b[39m(delay, \u001b[38;5;241m0\u001b[39m)  \u001b[38;5;66;03m# Ensure delay is not negative\u001b[39;00m\n\u001b[0;32m     59\u001b[0m     \u001b[38;5;28mprint\u001b[39m(\u001b[38;5;124mf\u001b[39m\u001b[38;5;124m\"\u001b[39m\u001b[38;5;124mRate limit exceeded. Retrying after \u001b[39m\u001b[38;5;132;01m{\u001b[39;00mdelay\u001b[38;5;132;01m}\u001b[39;00m\u001b[38;5;124m seconds...\u001b[39m\u001b[38;5;124m\"\u001b[39m)\n\u001b[1;32m---> 60\u001b[0m     \u001b[43mtime\u001b[49m\u001b[38;5;241;43m.\u001b[39;49m\u001b[43msleep\u001b[49m\u001b[43m(\u001b[49m\u001b[43mdelay\u001b[49m\u001b[43m)\u001b[49m\n\u001b[0;32m     61\u001b[0m \u001b[38;5;28;01mexcept\u001b[39;00m \u001b[38;5;167;01mValueError\u001b[39;00m:\n\u001b[0;32m     62\u001b[0m     \u001b[38;5;66;03m# If retry-after is not a timestamp, assume it is seconds\u001b[39;00m\n\u001b[0;32m     63\u001b[0m     \u001b[38;5;28mprint\u001b[39m(\u001b[38;5;124mf\u001b[39m\u001b[38;5;124m\"\u001b[39m\u001b[38;5;124mRate limit exceeded. Retrying after \u001b[39m\u001b[38;5;132;01m{\u001b[39;00mretry_after\u001b[38;5;132;01m}\u001b[39;00m\u001b[38;5;124m seconds...\u001b[39m\u001b[38;5;124m\"\u001b[39m)\n",
      "\u001b[1;31mKeyboardInterrupt\u001b[0m: "
     ]
    }
   ],
   "source": [
    "import requests\n",
    "import time\n",
    "from datetime import datetime, timezone\n",
    "\n",
    "# Set up your API key\n",
    "headers = {\"Authorization\": \"Bearer \" + apikey}\n",
    "\n",
    "# Define the search query\n",
    "search_query = \"yearPublished>=2024\"\n",
    "limit = 100  # Fetch results in smaller chunks\n",
    "offset = 0  # Start at the first result\n",
    "extracted_identifiers = []  # Store all results\n",
    "\n",
    "while True:\n",
    "    # Make the API request with pagination\n",
    "    response = requests.get(\n",
    "        f\"https://api.core.ac.uk/v3/search/works?q={search_query}&_exists_:doi&limit={limit}&offset={offset}\",\n",
    "        headers=headers\n",
    "    )\n",
    "\n",
    "    # Check the response status\n",
    "    if response.status_code == 200:\n",
    "        data = response.json()\n",
    "\n",
    "        # Display remaining requests (if available) or \"unknown\"\n",
    "        remaining_requests = response.headers.get(\"x-ratelimit-remaining\", \"unknown\")\n",
    "        print(f\"Remaining requests: {remaining_requests} out of 10\")\n",
    "\n",
    "        # Process results\n",
    "        if \"results\" in data and data[\"results\"]:\n",
    "            for result in data[\"results\"]:\n",
    "                title = result.get(\"title\", \"No title\")\n",
    "                doc_id = result.get(\"id\", \"No id\")\n",
    "                doi = result.get(\"doi\", \"No DOI\")\n",
    "                published_date = result.get(\"publishedDate\", \"No published date\")\n",
    "                extracted_identifiers.append({\n",
    "                    \"title\": title,\n",
    "                    \"id\": doc_id,\n",
    "                    \"doi\": doi,\n",
    "                    \"published_date\": published_date\n",
    "                })\n",
    "            \n",
    "            # Show the current size of the list\n",
    "            print(f\"Current size of the list: {len(extracted_identifiers)}\")\n",
    "\n",
    "            # Update the offset to fetch the next set of results\n",
    "            offset += limit\n",
    "        else:\n",
    "            print(\"No more results available.\")\n",
    "            break\n",
    "    elif response.status_code == 429:  # Handle rate-limiting\n",
    "        retry_after = response.headers.get(\"X-RateLimit-Retry-After\")\n",
    "        if retry_after:\n",
    "            try:\n",
    "                # Handle if retry-after is a timestamp\n",
    "                retry_time = datetime.strptime(retry_after, \"%Y-%m-%dT%H:%M:%S%z\")\n",
    "                delay = (retry_time - datetime.now(timezone.utc)).total_seconds()\n",
    "                delay = max(delay, 0)  # Ensure delay is not negative\n",
    "                print(f\"Rate limit exceeded. Retrying after {delay} seconds...\")\n",
    "                time.sleep(delay)\n",
    "            except ValueError:\n",
    "                # If retry-after is not a timestamp, assume it is seconds\n",
    "                print(f\"Rate limit exceeded. Retrying after {retry_after} seconds...\")\n",
    "                time.sleep(float(retry_after))  # Handle retry as seconds\n",
    "        else:\n",
    "            print(\"Rate limit exceeded. Retrying after 60 seconds...\")\n",
    "            time.sleep(60)  # Fallback if no retry-after is provided\n",
    "    else:\n",
    "        print(f\"Error: {response.status_code}\")\n",
    "        print(response.text)\n",
    "        break\n",
    "\n",
    "# Final size of the list\n",
    "print(f\"Total size of the list: {len(extracted_identifiers)}\")\n"
   ]
  },
  {
   "cell_type": "code",
   "execution_count": 32,
   "id": "b7269cbc-efd9-40ed-b0f8-ad5d23389cef",
   "metadata": {
    "collapsed": true,
    "jupyter": {
     "outputs_hidden": true
    }
   },
   "outputs": [
    {
     "data": {
      "text/plain": [
       "398"
      ]
     },
     "execution_count": 32,
     "metadata": {},
     "output_type": "execute_result"
    }
   ],
   "source": [
    "len(extracted_identifiers)"
   ]
  },
  {
   "cell_type": "code",
   "execution_count": 33,
   "id": "c66c8083-b295-462e-9395-be85df1283a1",
   "metadata": {
    "collapsed": true,
    "jupyter": {
     "outputs_hidden": true
    }
   },
   "outputs": [
    {
     "data": {
      "text/html": [
       "<div>\n",
       "<style scoped>\n",
       "    .dataframe tbody tr th:only-of-type {\n",
       "        vertical-align: middle;\n",
       "    }\n",
       "\n",
       "    .dataframe tbody tr th {\n",
       "        vertical-align: top;\n",
       "    }\n",
       "\n",
       "    .dataframe thead th {\n",
       "        text-align: right;\n",
       "    }\n",
       "</style>\n",
       "<table border=\"1\" class=\"dataframe\">\n",
       "  <thead>\n",
       "    <tr style=\"text-align: right;\">\n",
       "      <th></th>\n",
       "      <th>title</th>\n",
       "      <th>id</th>\n",
       "      <th>doi</th>\n",
       "      <th>published_date</th>\n",
       "    </tr>\n",
       "  </thead>\n",
       "  <tbody>\n",
       "    <tr>\n",
       "      <th>168</th>\n",
       "      <td>ANALISIS DAMPAK PEMBERIAN HAL VETO CHINA TERHA...</td>\n",
       "      <td>156716043</td>\n",
       "      <td>None</td>\n",
       "      <td>2024-05-17T01:00:00</td>\n",
       "    </tr>\n",
       "    <tr>\n",
       "      <th>293</th>\n",
       "      <td>ANALISIS PENGARUH PRODUK DOMESTIK REGIONAL BRU...</td>\n",
       "      <td>155485811</td>\n",
       "      <td>None</td>\n",
       "      <td>2024-01-11T00:00:00</td>\n",
       "    </tr>\n",
       "    <tr>\n",
       "      <th>395</th>\n",
       "      <td>KAJIAN KERAGAMAN KELELAWAR (Chiroptera) DI GUA...</td>\n",
       "      <td>155488551</td>\n",
       "      <td>None</td>\n",
       "      <td>2024-03-26T00:00:00</td>\n",
       "    </tr>\n",
       "    <tr>\n",
       "      <th>255</th>\n",
       "      <td>PEMBERDAYAAN LANSIA MELALUI PENINGKATAN AKTIVI...</td>\n",
       "      <td>156715879</td>\n",
       "      <td>None</td>\n",
       "      <td>2024-06-28T01:00:00</td>\n",
       "    </tr>\n",
       "    <tr>\n",
       "      <th>160</th>\n",
       "      <td>EVALUASI PELAKSANAAN PROGRAM POS PEMBINAAN TER...</td>\n",
       "      <td>155486200</td>\n",
       "      <td>None</td>\n",
       "      <td>2024-01-19T00:00:00</td>\n",
       "    </tr>\n",
       "    <tr>\n",
       "      <th>198</th>\n",
       "      <td>PERAN FRONTLINER DALAM MENINGKATKAN PELAYANAN ...</td>\n",
       "      <td>155485914</td>\n",
       "      <td>None</td>\n",
       "      <td>2024-01-18T00:00:00</td>\n",
       "    </tr>\n",
       "    <tr>\n",
       "      <th>294</th>\n",
       "      <td>Axiomatic phylogenetics</td>\n",
       "      <td>39084556</td>\n",
       "      <td>None</td>\n",
       "      <td>2024-03-07T00:00:00</td>\n",
       "    </tr>\n",
       "    <tr>\n",
       "      <th>304</th>\n",
       "      <td>PENGARUH BRAND DILUTION TERHADAP BRAND LOYALTY...</td>\n",
       "      <td>156715824</td>\n",
       "      <td>None</td>\n",
       "      <td>2024-04-27T01:00:00</td>\n",
       "    </tr>\n",
       "    <tr>\n",
       "      <th>272</th>\n",
       "      <td>Clustering Musik Rock Menggunakan Algoritma K-...</td>\n",
       "      <td>156715520</td>\n",
       "      <td>None</td>\n",
       "      <td>2024-05-31T01:00:00</td>\n",
       "    </tr>\n",
       "    <tr>\n",
       "      <th>307</th>\n",
       "      <td>ANALISIS FAKTOR-FAKTOR SUBJEKTIF PENYEBAB PENG...</td>\n",
       "      <td>156715513</td>\n",
       "      <td>None</td>\n",
       "      <td>2024-05-30T01:00:00</td>\n",
       "    </tr>\n",
       "  </tbody>\n",
       "</table>\n",
       "</div>"
      ],
      "text/plain": [
       "                                                 title         id   doi  \\\n",
       "168  ANALISIS DAMPAK PEMBERIAN HAL VETO CHINA TERHA...  156716043  None   \n",
       "293  ANALISIS PENGARUH PRODUK DOMESTIK REGIONAL BRU...  155485811  None   \n",
       "395  KAJIAN KERAGAMAN KELELAWAR (Chiroptera) DI GUA...  155488551  None   \n",
       "255  PEMBERDAYAAN LANSIA MELALUI PENINGKATAN AKTIVI...  156715879  None   \n",
       "160  EVALUASI PELAKSANAAN PROGRAM POS PEMBINAAN TER...  155486200  None   \n",
       "198  PERAN FRONTLINER DALAM MENINGKATKAN PELAYANAN ...  155485914  None   \n",
       "294                            Axiomatic phylogenetics   39084556  None   \n",
       "304  PENGARUH BRAND DILUTION TERHADAP BRAND LOYALTY...  156715824  None   \n",
       "272  Clustering Musik Rock Menggunakan Algoritma K-...  156715520  None   \n",
       "307  ANALISIS FAKTOR-FAKTOR SUBJEKTIF PENYEBAB PENG...  156715513  None   \n",
       "\n",
       "          published_date  \n",
       "168  2024-05-17T01:00:00  \n",
       "293  2024-01-11T00:00:00  \n",
       "395  2024-03-26T00:00:00  \n",
       "255  2024-06-28T01:00:00  \n",
       "160  2024-01-19T00:00:00  \n",
       "198  2024-01-18T00:00:00  \n",
       "294  2024-03-07T00:00:00  \n",
       "304  2024-04-27T01:00:00  \n",
       "272  2024-05-31T01:00:00  \n",
       "307  2024-05-30T01:00:00  "
      ]
     },
     "execution_count": 33,
     "metadata": {},
     "output_type": "execute_result"
    }
   ],
   "source": [
    "import pandas as pd\n",
    "df=pd.DataFrame(extracted_identifiers)\n",
    "df.sample(10)"
   ]
  },
  {
   "cell_type": "code",
   "execution_count": 12,
   "id": "c67dff6f-9f51-4803-8574-f700ebab5427",
   "metadata": {
    "collapsed": true,
    "jupyter": {
     "outputs_hidden": true
    }
   },
   "outputs": [],
   "source": [
    "df.to_excel(\"Final_result.xlsx\",index=False)"
   ]
  },
  {
   "cell_type": "markdown",
   "id": "b479b192-3a28-45cd-9db4-1df73afe0747",
   "metadata": {},
   "source": [
    "# Monitor Rate Limit per-min"
   ]
  },
  {
   "cell_type": "code",
   "execution_count": 27,
   "id": "da56e01d-52cd-423e-aac4-fc75f33d9ebb",
   "metadata": {
    "collapsed": true,
    "jupyter": {
     "outputs_hidden": true
    }
   },
   "outputs": [
    {
     "name": "stdout",
     "output_type": "stream",
     "text": [
      "Rate Limit Information:\n",
      "Remaining Requests: 4/10\n",
      "No retry-after information available.\n"
     ]
    }
   ],
   "source": [
    "import requests\n",
    "\n",
    "# Set up headers with the API key\n",
    "headers = {\"Authorization\": \"Bearer \" + apikey}\n",
    "\n",
    "# Make a simple API request to check rate limits\n",
    "response = requests.get(\"https://api.core.ac.uk/v3/search/works\", headers=headers)\n",
    "\n",
    "# Extract and display rate limit information\n",
    "remaining_limit = response.headers.get(\"x-ratelimit-remaining\")\n",
    "rate_limit = response.headers.get(\"x-ratelimit-limit\")\n",
    "retry_after = response.headers.get(\"x-ratelimit-retry-rfter\")\n",
    "\n",
    "print(\"Rate Limit Information:\")\n",
    "if remaining_limit and rate_limit:\n",
    "    print(f\"Remaining Requests: {remaining_limit}/{rate_limit}\")\n",
    "else:\n",
    "    print(\"Rate limit information is not available in the headers.\")\n",
    "\n",
    "if retry_after:\n",
    "    print(f\"Retry After: {retry_after} seconds\")\n",
    "else:\n",
    "    print(\"No retry-after information available.\")\n"
   ]
  },
  {
   "cell_type": "code",
   "execution_count": null,
   "id": "7c94b621-a078-4419-9af6-7218524dc280",
   "metadata": {
    "collapsed": true,
    "jupyter": {
     "outputs_hidden": true
    }
   },
   "outputs": [],
   "source": []
  }
 ],
 "metadata": {
  "kernelspec": {
   "display_name": "Python 3 (ipykernel)",
   "language": "python",
   "name": "python3"
  },
  "language_info": {
   "codemirror_mode": {
    "name": "ipython",
    "version": 3
   },
   "file_extension": ".py",
   "mimetype": "text/x-python",
   "name": "python",
   "nbconvert_exporter": "python",
   "pygments_lexer": "ipython3",
   "version": "3.12.4"
  }
 },
 "nbformat": 4,
 "nbformat_minor": 5
}
